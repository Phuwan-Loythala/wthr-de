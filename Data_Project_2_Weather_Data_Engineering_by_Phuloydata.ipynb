{
  "nbformat": 4,
  "nbformat_minor": 0,
  "metadata": {
    "colab": {
      "provenance": [],
      "authorship_tag": "ABX9TyNqzAWHJ+UT3pQjINRNOAn9",
      "include_colab_link": true
    },
    "kernelspec": {
      "name": "python3",
      "display_name": "Python 3"
    },
    "language_info": {
      "name": "python"
    }
  },
  "cells": [
    {
      "cell_type": "markdown",
      "metadata": {
        "id": "view-in-github",
        "colab_type": "text"
      },
      "source": [
        "<a href=\"https://colab.research.google.com/github/Phuwan-Loythala/wthr-de/blob/main/Data_Project_2_Weather_Data_Engineering_by_Phuloydata.ipynb\" target=\"_parent\"><img src=\"https://colab.research.google.com/assets/colab-badge.svg\" alt=\"Open In Colab\"/></a>"
      ]
    },
    {
      "cell_type": "code",
      "source": [
        "import requests\n",
        "\n",
        "# Define the API URL\n",
        "api_url = \"https://api.weatherapi.com/v1/current.json?key=4bce76cddea847a4b7435305230111\"\n",
        "\n",
        "#API KEYS\n",
        "params = {\n",
        "    'q': 'Pathum Thani'\n",
        "}\n",
        "\n",
        "# Make a request to the API\n",
        "response = requests.get(api_url, params=params)\n",
        "\n",
        "# Check for a successful response (status code 200)\n",
        "if response.status_code == 200:\n",
        "    weather_data = response.json()\n",
        "    print(weather_data)\n",
        "else:\n",
        "    print(f\"Failed to fetch weather data. Status code: {response.status_code}\")"
      ],
      "metadata": {
        "colab": {
          "base_uri": "https://localhost:8080/"
        },
        "id": "REgFMvaigyuP",
        "outputId": "6db9e57f-026b-47f2-9038-869d1e4441a9"
      },
      "execution_count": null,
      "outputs": [
        {
          "output_type": "stream",
          "name": "stdout",
          "text": [
            "{'location': {'name': 'Pathum Thani', 'region': 'Pathum Thani', 'country': 'Thailand', 'lat': 14.02, 'lon': 100.53, 'tz_id': 'Asia/Bangkok', 'localtime_epoch': 1698835975, 'localtime': '2023-11-01 17:52'}, 'current': {'last_updated_epoch': 1698835500, 'last_updated': '2023-11-01 17:45', 'temp_c': 31.0, 'temp_f': 87.8, 'is_day': 0, 'condition': {'text': 'Partly cloudy', 'icon': '//cdn.weatherapi.com/weather/64x64/night/116.png', 'code': 1003}, 'wind_mph': 5.6, 'wind_kph': 9.0, 'wind_degree': 20, 'wind_dir': 'NNE', 'pressure_mb': 1011.0, 'pressure_in': 29.85, 'precip_mm': 0.85, 'precip_in': 0.03, 'humidity': 63, 'cloud': 25, 'feelslike_c': 38.8, 'feelslike_f': 101.9, 'vis_km': 10.0, 'vis_miles': 6.0, 'uv': 6.0, 'gust_mph': 8.6, 'gust_kph': 13.8}}\n"
          ]
        }
      ]
    },
    {
      "cell_type": "code",
      "source": [
        "import pandas as pd\n",
        "\n",
        "# Process the weather data (assuming it's a list of dictionaries)\n",
        "\n",
        "# Check for a successful response (status code 200)\n",
        "if response.status_code == 200:\n",
        "    weather_data = response.json()\n",
        "    processed_data = []\n",
        "    # Access the relevant weather information from the JSON response\n",
        "    country = weather_data['location']['country']\n",
        "    location_name = weather_data['location']['name']\n",
        "    temperature = weather_data['current']['temp_c']\n",
        "    humidity = weather_data['current']['humidity']\n",
        "    date = weather_data['location']['localtime']\n",
        "\n",
        "    # Create a dictionary with the extracted data\n",
        "    processed_data = [{'date': date, 'country': country,'location_name': location_name, 'temperature': temperature, 'humidity': humidity}]\n",
        "\n",
        "    # Convert the processed data into a DataFrame (using Pandas)\n",
        "    df = pd.DataFrame(processed_data)\n",
        "\n",
        "    df['date'] = pd.to_datetime(df['date'])\n",
        "    df = df.sort_values(by='date')\n",
        "\n",
        "    for target_date in df['date']:\n",
        "      df.append(processed_data, ignore_index=True)\n",
        "      print(df)\n",
        "else:\n",
        "    print(f\"Failed to fetch weather data. Status code: {response.status_code}\")"
      ],
      "metadata": {
        "colab": {
          "base_uri": "https://localhost:8080/"
        },
        "id": "cFyPwca0fXqj",
        "outputId": "74a05bc1-4e8a-4c92-99e4-62f4f7e3149a"
      },
      "execution_count": null,
      "outputs": [
        {
          "output_type": "stream",
          "name": "stdout",
          "text": [
            "                 date   country location_name  temperature  humidity\n",
            "0 2023-11-01 17:52:00  Thailand  Pathum Thani         31.0        63\n"
          ]
        },
        {
          "output_type": "stream",
          "name": "stderr",
          "text": [
            "<ipython-input-130-7edf8d3fcee7>:26: FutureWarning: The frame.append method is deprecated and will be removed from pandas in a future version. Use pandas.concat instead.\n",
            "  df.append(processed_data, ignore_index=True)\n"
          ]
        }
      ]
    },
    {
      "cell_type": "code",
      "source": [
        "import sqlite3\n",
        "\n",
        "# Connect to the SQLite database (create one if it doesn't exist)\n",
        "conn = sqlite3.connect('weather_data.db')\n",
        "\n",
        "# Create a cursor object\n",
        "cursor = conn.cursor()\n",
        "\n",
        "# Create a table to store the data\n",
        "cursor.execute('''\n",
        "    CREATE TABLE IF NOT EXISTS weather_data (\n",
        "        date TEXT,\n",
        "        temperature REAL,\n",
        "        humidity REAL\n",
        "    )\n",
        "''')\n",
        "\n",
        "# Insert the data into the table\n",
        "for _, row in df.iterrows():\n",
        "    cursor.execute('''\n",
        "        INSERT INTO weather_data (date, temperature, humidity)\n",
        "        VALUES (?, ?, ?)\n",
        "    ''', (row['date'], row['temperature'], row['humidity']))\n",
        "\n",
        "# Commit the changes and close the database connection\n",
        "conn.commit()\n",
        "conn.close()"
      ],
      "metadata": {
        "id": "fjPm0cvOS_bC"
      },
      "execution_count": null,
      "outputs": []
    }
  ]
}